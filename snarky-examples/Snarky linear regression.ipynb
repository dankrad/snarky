{
 "cells": [
  {
   "cell_type": "code",
   "execution_count": 1,
   "metadata": {
    "scrolled": false
   },
   "outputs": [
    {
     "name": "stdout",
     "output_type": "stream",
     "text": [
      "Entering directory '/home/df/local/snarky/snarky-examples/.linear_regression.snarky.build'\n",
      "                   \r"
     ]
    }
   ],
   "source": [
    "!eval $(opam env) && snarky_cli build linear_regression.zk --curve Bn128"
   ]
  },
  {
   "cell_type": "code",
   "execution_count": 2,
   "metadata": {},
   "outputs": [
    {
     "name": "stdout",
     "output_type": "stream",
     "text": [
      "dune exec --root .linear_regression.snarky.build ./linear_regression_gen.exe -- generate-keys --proving-key=linear_regression.pk --verification-key=linear_regression.vk\n",
      "Entering directory '/home/df/local/snarky/snarky-examples/.linear_regression.snarky.build'\n",
      "Entering directory '/home/df/local/snarky/snarky-examples/.linear_regression.snarky.build'\n",
      "Swap is not beneficial, not performing\n",
      "* QAP number of variables: 465\n",
      "* QAP pre degree: 458\n",
      "* QAP degree: 512\n",
      "* QAP number of input variables: 16\n",
      "* G1 window: 8\n",
      "* G2 window: 7\n",
      "* G1 elements in PK: 1893\n",
      "* Non-zero G1 elements in PK: 1861\n",
      "* G2 elements in PK: 467\n",
      "* Non-zero G2 elements in PK: 435\n",
      "* PK size in bits: 723746\n",
      "* G1 elements in VK: 16\n",
      "* G2 elements in VK: 1\n",
      "* GT elements in VK: 1\n",
      "* VK size in bits: 6377\n"
     ]
    }
   ],
   "source": [
    "!eval $(opam env) && snarky_cli generate-keys linear_regression.zk --curve Bn128"
   ]
  },
  {
   "cell_type": "code",
   "execution_count": 3,
   "metadata": {},
   "outputs": [],
   "source": [
    "import numpy as np\n",
    "import matplotlib.pyplot as plt\n",
    "from scipy.stats import linregress"
   ]
  },
  {
   "cell_type": "code",
   "execution_count": 4,
   "metadata": {},
   "outputs": [],
   "source": [
    "x = [-1.0, 1.5, 2.3, 3.1, 4.4, 6.4, 7.2, 8.2]\n",
    "#y = [13.0, 24.1, 40.1, 31.1, 44.5, 50.1, 33.3, 60.6]\n",
    "y = [13.0, 24.1, -1.3, 31.1, 4.4, -4.4, -17.2, -48.2]"
   ]
  },
  {
   "cell_type": "code",
   "execution_count": 5,
   "metadata": {},
   "outputs": [
    {
     "data": {
      "image/png": "[encoded data removed]",
      "text/plain": [
       "<Figure size 432x288 with 1 Axes>"
      ]
     },
     "metadata": {
      "needs_background": "light"
     },
     "output_type": "display_data"
    }
   ],
   "source": [
    "plt.plot(x, y, \"+\")\n",
    "plt.show()"
   ]
  },
  {
   "cell_type": "code",
   "execution_count": 6,
   "metadata": {},
   "outputs": [],
   "source": [
    "def to_fixedpoint_field(x):\n",
    "    curve_order = 21888242871839275222246405745257275088548364400416034343698204186575808495617\n",
    "    t = int(x * 2**16)\n",
    "    if t < 0:\n",
    "        t = t + curve_order\n",
    "    return t"
   ]
  },
  {
   "cell_type": "code",
   "execution_count": 7,
   "metadata": {},
   "outputs": [],
   "source": [
    "x_fp = list(map(to_fixedpoint_field, x))\n",
    "y_fp = list(map(to_fixedpoint_field, y))"
   ]
  },
  {
   "cell_type": "code",
   "execution_count": 8,
   "metadata": {},
   "outputs": [],
   "source": [
    "snarky_commandline = \"snarky_cli prove linear_regression.zk \" + \" \".join(map(str, x_fp)) + \" \" + \" \".join(map(str, y_fp))"
   ]
  },
  {
   "cell_type": "code",
   "execution_count": 9,
   "metadata": {},
   "outputs": [
    {
     "data": {
      "text/plain": [
       "'snarky_cli prove linear_regression.zk 21888242871839275222246405745257275088548364400416034343698204186575808430081 98304 150732 203161 288358 419430 471859 537395 851968 1579417 21888242871839275222246405745257275088548364400416034343698204186575808410421 2038169 288358 21888242871839275222246405745257275088548364400416034343698204186575808207259 21888242871839275222246405745257275088548364400416034343698204186575807368398 21888242871839275222246405745257275088548364400416034343698204186575805336782'"
      ]
     },
     "execution_count": 9,
     "metadata": {},
     "output_type": "execute_result"
    }
   ],
   "source": [
    "snarky_commandline"
   ]
  },
  {
   "cell_type": "code",
   "execution_count": 10,
   "metadata": {},
   "outputs": [
    {
     "name": "stdout",
     "output_type": "stream",
     "text": [
      "dune exec --root .linear_regression.snarky.build ./linear_regression_gen.exe -- prove --proving-key=linear_regression.pk 21888242871839275222246405745257275088548364400416034343698204186575808430081 98304 150732 203161 288358 419430 471859 537395 851968 1579417 21888242871839275222246405745257275088548364400416034343698204186575808410421 2038169 288358 21888242871839275222246405745257275088548364400416034343698204186575808207259 21888242871839275222246405745257275088548364400416034343698204186575807368398 21888242871839275222246405745257275088548364400416034343698204186575805336782\n",
      "Entering directory '/home/df/local/snarky/snarky-examples/.linear_regression.snarky.build'\n",
      "Entering directory '/home/df/local/snarky/snarky-examples/.linear_regression.snarky.build'\n",
      "Division result: 262962\n",
      "Division result: 12288\n",
      "Mean of x values: 262962\n",
      "Mean of y values: 12288\n",
      "m numerator prered: 21888242871839275222246405745257275088548364400416034343698204184783395091088\n",
      "m numerator: 21888242871839275222246405745257275088548364400416034343698204186575781145558\n",
      "m denominator prered: 295273545407\n",
      "m denominator: 4505516\n",
      "Division result: -397827\n",
      "y = m * x + b\n",
      "m = -6.07035827637\n",
      "b = 24.544708252\n",
      "* Elements of w skipped: 256 (54.94%)\n",
      "* Elements of w processed with special addition: 171 (36.70%)\n",
      "* Elements of w remaining: 39 (8.37%)\n",
      "* Elements of w skipped: 255 (58.76%)\n",
      "* Elements of w processed with special addition: 168 (38.71%)\n",
      "* Elements of w remaining: 11 (2.53%)\n",
      "* Elements of w skipped: 256 (57.02%)\n",
      "* Elements of w processed with special addition: 170 (37.86%)\n",
      "* Elements of w remaining: 23 (5.12%)\n",
      "* G1 elements in proof: 2\n",
      "* G2 elements in proof: 1\n",
      "* Proof size in bits: 1019\n"
     ]
    }
   ],
   "source": [
    "!eval $(opam env) && {snarky_commandline}"
   ]
  },
  {
   "cell_type": "code",
   "execution_count": 11,
   "metadata": {},
   "outputs": [
    {
     "data": {
      "text/plain": [
       "(-6.070346733576974, 24.54476626847761)"
      ]
     },
     "execution_count": 11,
     "metadata": {},
     "output_type": "execute_result"
    }
   ],
   "source": [
    "r_python = linregress(x, y)\n",
    "\n",
    "m_python = r_python.slope\n",
    "b_python = r_python.intercept\n",
    "\n",
    "r_python = linregress(x, y)\n",
    "m_python, b_python"
   ]
  },
  {
   "cell_type": "code",
   "execution_count": 12,
   "metadata": {},
   "outputs": [
    {
     "data": {
      "image/png": "[encoded data removed]",
      "text/plain": [
       "<Figure size 864x504 with 1 Axes>"
      ]
     },
     "metadata": {
      "needs_background": "light"
     },
     "output_type": "display_data"
    }
   ],
   "source": [
    "\n",
    "\n",
    "m = -6.07035827637\n",
    "b = 24.544708252\n",
    "\n",
    "\n",
    "interpolate_x = list(range(-1,10))\n",
    "interpolate_y = [m*xi + b for xi in interpolate_x]\n",
    "\n",
    "interpolate_x_python = list(range(-1, 10))\n",
    "interpolate_y_python = [m_python*xi + b_python for xi in interpolate_x]\n",
    "\n",
    "plt.figure(figsize=(12,7))\n",
    "\n",
    "plt.plot(x, y, \"+\", label = \"data\")\n",
    "plt.plot(interpolate_x, interpolate_y, label = \"Fit (in Snarky)\")\n",
    "plt.plot(interpolate_x_python, interpolate_y_python, \"x\", label = \"Fit (python check)\")\n",
    "plt.legend()\n",
    "plt.show()"
   ]
  },
  {
   "cell_type": "code",
   "execution_count": 13,
   "metadata": {},
   "outputs": [],
   "source": [
    "snarky_commandline_verifier = \"snarky_cli verify linear_regression.zk --proof linear_regression_gen.zkp \" + \" \".join(map(str, x_fp)) + \" \" + \" \".join(map(str, y_fp))"
   ]
  },
  {
   "cell_type": "code",
   "execution_count": 14,
   "metadata": {},
   "outputs": [
    {
     "name": "stdout",
     "output_type": "stream",
     "text": [
      "dune exec --root .linear_regression.snarky.build ./linear_regression_gen.exe -- verify linear_regression_gen.zkp --verification-key=linear_regression.vk 21888242871839275222246405745257275088548364400416034343698204186575808430081 98304 150732 203161 288358 419430 471859 537395 851968 1579417 21888242871839275222246405745257275088548364400416034343698204186575808410421 2038169 288358 21888242871839275222246405745257275088548364400416034343698204186575808207259 21888242871839275222246405745257275088548364400416034343698204186575807368398 21888242871839275222246405745257275088548364400416034343698204186575805336782\n",
      "Entering directory '/home/df/local/snarky/snarky-examples/.linear_regression.snarky.build'\n",
      "Entering directory '/home/df/local/snarky/snarky-examples/.linear_regression.snarky.build'\n",
      "Proof is valid.\n"
     ]
    }
   ],
   "source": [
    "!eval $(opam env) && {snarky_commandline_verifier}"
   ]
  },
  {
   "cell_type": "code",
   "execution_count": null,
   "metadata": {},
   "outputs": [],
   "source": []
  }
 ],
 "metadata": {
  "kernelspec": {
   "display_name": "Python 3",
   "language": "python",
   "name": "python3"
  },
  "language_info": {
   "codemirror_mode": {
    "name": "ipython",
    "version": 3
   },
   "file_extension": ".py",
   "mimetype": "text/x-python",
   "name": "python",
   "nbconvert_exporter": "python",
   "pygments_lexer": "ipython3",
   "version": "3.6.7"
  }
 },
 "nbformat": 4,
 "nbformat_minor": 2
}
