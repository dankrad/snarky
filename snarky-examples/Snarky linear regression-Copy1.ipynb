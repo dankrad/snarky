{
 "cells": [
  {
   "cell_type": "code",
   "execution_count": 93,
   "metadata": {
    "scrolled": false
   },
   "outputs": [
    {
     "name": "stdout",
     "output_type": "stream",
     "text": [
      "Entering directory '/home/df/local/snarky/snarky-examples/.linear_regression.snarky.build'\n",
      "                   \r"
     ]
    }
   ],
   "source": [
    "!eval $(opam env) && snarky_cli build linear_regression.zk --curve Bn128"
   ]
  },
  {
   "cell_type": "code",
   "execution_count": 94,
   "metadata": {},
   "outputs": [
    {
     "name": "stdout",
     "output_type": "stream",
     "text": [
      "dune exec --root .linear_regression.snarky.build ./linear_regression_gen.exe -- generate-keys --proving-key=linear_regression.pk --verification-key=linear_regression.vk\n",
      "Entering directory '/home/df/local/snarky/snarky-examples/.linear_regression.snarky.build'\n",
      "Entering directory '/home/df/local/snarky/snarky-examples/.linear_regression.snarky.build'\n",
      "Swap is not beneficial, not performing\n",
      "* QAP number of variables: 465\n",
      "* QAP pre degree: 458\n",
      "* QAP degree: 512\n",
      "* QAP number of input variables: 16\n",
      "* G1 window: 8\n",
      "* G2 window: 7\n",
      "* G1 elements in PK: 1893\n",
      "* Non-zero G1 elements in PK: 1861\n",
      "* G2 elements in PK: 467\n",
      "* Non-zero G2 elements in PK: 435\n",
      "* PK size in bits: 723746\n",
      "* G1 elements in VK: 16\n",
      "* G2 elements in VK: 1\n",
      "* GT elements in VK: 1\n",
      "* VK size in bits: 6377\n"
     ]
    }
   ],
   "source": [
    "!eval $(opam env) && snarky_cli generate-keys linear_regression.zk --curve Bn128"
   ]
  },
  {
   "cell_type": "code",
   "execution_count": 95,
   "metadata": {},
   "outputs": [],
   "source": [
    "import numpy as np\n",
    "import matplotlib.pyplot as plt"
   ]
  },
  {
   "cell_type": "code",
   "execution_count": 103,
   "metadata": {},
   "outputs": [],
   "source": [
    "x = [-1.0, 1.5, 2.3, 3.1, 4.4, 6.4, 7.2, 8.2]\n",
    "#y = [13.0, 24.1, 40.1, 31.1, 44.5, 50.1, 33.3, 60.6]\n",
    "y = [13.0, 24.1, -1.3, 31.1, 4.4, -4.4, -17.2, -48.2]"
   ]
  },
  {
   "cell_type": "code",
   "execution_count": 104,
   "metadata": {},
   "outputs": [
    {
     "data": {
      "image/png": "[encoded data removed]",
      "text/plain": [
       "<Figure size 432x288 with 1 Axes>"
      ]
     },
     "metadata": {
      "needs_background": "light"
     },
     "output_type": "display_data"
    }
   ],
   "source": [
    "plt.plot(x, y, \"+\")\n",
    "plt.show()"
   ]
  },
  {
   "cell_type": "code",
   "execution_count": 105,
   "metadata": {},
   "outputs": [],
   "source": [
    "def to_fixedpoint_field(x):\n",
    "    curve_order = 21888242871839275222246405745257275088548364400416034343698204186575808495617\n",
    "    t = int(x * 2**16)\n",
    "    if t < 0:\n",
    "        t = t + curve_order\n",
    "    return t"
   ]
  },
  {
   "cell_type": "code",
   "execution_count": 106,
   "metadata": {},
   "outputs": [],
   "source": [
    "x_fp = list(map(to_fixedpoint_field, x))\n",
    "y_fp = list(map(to_fixedpoint_field, y))"
   ]
  },
  {
   "cell_type": "code",
   "execution_count": 107,
   "metadata": {},
   "outputs": [],
   "source": [
    "snarky_commandline = \"snarky_cli prove linear_regression.zk \" + \" \".join(map(str, x_fp)) + \" \" + \" \".join(map(str, y_fp))"
   ]
  },
  {
   "cell_type": "code",
   "execution_count": 108,
   "metadata": {},
   "outputs": [
    {
     "name": "stdout",
     "output_type": "stream",
     "text": [
      "dune exec --root .linear_regression.snarky.build ./linear_regression_gen.exe -- prove --proving-key=linear_regression.pk 21888242871839275222246405745257275088548364400416034343698204186575808430081 98304 150732 203161 288358 419430 471859 537395 851968 1579417 21888242871839275222246405745257275088548364400416034343698204186575808410421 2038169 288358 21888242871839275222246405745257275088548364400416034343698204186575808207259 21888242871839275222246405745257275088548364400416034343698204186575807368398 21888242871839275222246405745257275088548364400416034343698204186575805336782\n",
      "Entering directory '/home/df/local/snarky/snarky-examples/.linear_regression.snarky.build'\n",
      "Entering directory '/home/df/local/snarky/snarky-examples/.linear_regression.snarky.build'\n",
      "Division result: 262962\n",
      "Division result: 12288\n",
      "Mean of x values: 262962\n",
      "Mean of y values: 12288\n",
      "m numerator prered: 21888242871839275222246405745257275088548364400416034343698204184783395091088\n",
      "m numerator: 21888242871839275222246405745257275088548364400416034343698204186575781145558\n",
      "m denominator prered: 295273545407\n",
      "m denominator: 4505516\n",
      "Division result: -397827\n",
      "y = m * x + b\n",
      "m = -6.07035827637\n",
      "b = 24.544708252\n",
      "* Elements of w skipped: 256 (54.94%)\n",
      "* Elements of w processed with special addition: 171 (36.70%)\n",
      "* Elements of w remaining: 39 (8.37%)\n",
      "* Elements of w skipped: 255 (58.76%)\n",
      "* Elements of w processed with special addition: 168 (38.71%)\n",
      "* Elements of w remaining: 11 (2.53%)\n",
      "* Elements of w skipped: 256 (57.02%)\n",
      "* Elements of w processed with special addition: 170 (37.86%)\n",
      "* Elements of w remaining: 23 (5.12%)\n",
      "* G1 elements in proof: 2\n",
      "* G2 elements in proof: 1\n",
      "* Proof size in bits: 1019\n"
     ]
    }
   ],
   "source": [
    "!eval $(opam env) && {snarky_commandline}"
   ]
  },
  {
   "cell_type": "code",
   "execution_count": 110,
   "metadata": {},
   "outputs": [
    {
     "data": {
      "image/png": "[encoded data removed]",
      "text/plain": [
       "<Figure size 432x288 with 1 Axes>"
      ]
     },
     "metadata": {
      "needs_background": "light"
     },
     "output_type": "display_data"
    }
   ],
   "source": [
    "m = -6.07035827637\n",
    "b = 24.544708252\n",
    "\n",
    "\n",
    "interpolate_x = list(range(10))\n",
    "interpolate_y = [m*xi + b for xi in interpolate_x]\n",
    "plt.plot(x, y, \"+\")\n",
    "plt.plot(interpolate_x, interpolate_y)\n",
    "plt.show()"
   ]
  },
  {
   "cell_type": "code",
   "execution_count": 3,
   "metadata": {},
   "outputs": [],
   "source": [
    "from scipy.stats import linregress"
   ]
  },
  {
   "cell_type": "code",
   "execution_count": 4,
   "metadata": {},
   "outputs": [
    {
     "ename": "NameError",
     "evalue": "name 'x' is not defined",
     "output_type": "error",
     "traceback": [
      "\u001b[0;31m---------------------------------------------------------------------------\u001b[0m",
      "\u001b[0;31mNameError\u001b[0m                                 Traceback (most recent call last)",
      "\u001b[0;32m<ipython-input-4-c252d9759f30>\u001b[0m in \u001b[0;36m<module>\u001b[0;34m\u001b[0m\n\u001b[0;32m----> 1\u001b[0;31m \u001b[0mlinregress\u001b[0m\u001b[0;34m(\u001b[0m\u001b[0mx\u001b[0m\u001b[0;34m,\u001b[0m \u001b[0my\u001b[0m\u001b[0;34m)\u001b[0m\u001b[0;34m\u001b[0m\u001b[0;34m\u001b[0m\u001b[0m\n\u001b[0m",
      "\u001b[0;31mNameError\u001b[0m: name 'x' is not defined"
     ]
    }
   ],
   "source": [
    "linregress(x, y)"
   ]
  },
  {
   "cell_type": "code",
   "execution_count": null,
   "metadata": {},
   "outputs": [],
   "source": []
  }
 ],
 "metadata": {
  "kernelspec": {
   "display_name": "Python 3",
   "language": "python",
   "name": "python3"
  },
  "language_info": {
   "codemirror_mode": {
    "name": "ipython",
    "version": 3
   },
   "file_extension": ".py",
   "mimetype": "text/x-python",
   "name": "python",
   "nbconvert_exporter": "python",
   "pygments_lexer": "ipython3",
   "version": "3.6.7"
  }
 },
 "nbformat": 4,
 "nbformat_minor": 2
}
